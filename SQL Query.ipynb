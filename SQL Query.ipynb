{
  "nbformat": 4,
  "nbformat_minor": 0,
  "metadata": {
    "colab": {
      "provenance": [],
      "authorship_tag": "ABX9TyOJqif23gARTqZR3wpYLkJW",
      "include_colab_link": true
    },
    "kernelspec": {
      "name": "python3",
      "display_name": "Python 3"
    },
    "language_info": {
      "name": "python"
    }
  },
  "cells": [
    {
      "cell_type": "markdown",
      "metadata": {
        "id": "view-in-github",
        "colab_type": "text"
      },
      "source": [
        "<a href=\"https://colab.research.google.com/github/Arif264Shaik/Ola-Performance-Analysis/blob/main/SQL%20Query.ipynb\" target=\"_parent\"><img src=\"https://colab.research.google.com/assets/colab-badge.svg\" alt=\"Open In Colab\"/></a>"
      ]
    },
    {
      "cell_type": "code",
      "execution_count": null,
      "metadata": {
        "id": "r3xDY4Urtv_U"
      },
      "outputs": [],
      "source": [
        "# 1 Retrieve all successful bookings:\n",
        "\n",
        "CREATE VIEW Successfull_Bookings AS\n",
        "SELECT * FROM BOOKINGS\n",
        "where Booking_Status = 'success';\n",
        "\n",
        "SELECt * from Successfull_bookings;\n",
        "\n",
        "# 2 Find the average ride distance for each vehicle type:\n",
        "\n",
        "CREATE VIEW Average_Distance AS\n",
        "select Vehicle_type, round(avg(ride_distance), 2) as Avg_Ride_Distance\n",
        "from bookings\n",
        "group by Vehicle_Type\n",
        "order by avg_ride_distance DESC;\n",
        "\n",
        "Select * from Average_Distance;\n",
        "\n",
        "# 3 Get the total number of cancelled rides by customers:\n",
        "\n",
        "CREATE VIEW Bookings_Canceled_By_Customer AS\n",
        "SELECT count(*) Canceled_By_Customer FROM bookings\n",
        "where Booking_Status = 'canceled by customer';\n",
        "\n",
        "SELECT * FROM Bookings_Canceled_By_Customer;\n",
        "\n",
        "# 4 List the top 5 customers who booked the highest number of rides:\n",
        "\n",
        "CREATE VIEW Top5_Cust AS\n",
        "SELECT Customer_ID, COUNT(Booking_ID) AS Total_Rides\n",
        "FROM bookings\n",
        "GROUP BY Customer_ID\n",
        "ORDER BY Total_Rides DESC\n",
        "LIMIT 5;\n",
        "\n",
        "SELECT * FROM Top5_Cust;\n",
        "\n",
        "# 5 Get the number of rides cancelled by drivers due to personal and car-related issues:\n",
        "\n",
        "CREATE VIEW Canceled_By_Drivers_PC_Issues AS\n",
        "SELECT COUNT(*) AS Canceled_By_Driver FROM bookings\n",
        "WHERE Canceled_Rides_by_Driver = 'PERSONAL & CAR RELATED ISSUE';\n",
        "\n",
        "SELECT * FROM Canceled_By_Drivers_PC_Issues;\n",
        "\n",
        "# 6 Find the maximum and minimum driver ratings for Prime Sedan bookings:\n",
        "\n",
        "CREATE VIEW Max_Min_Driver_Rating AS\n",
        "SELECT MAX(Driver_Ratings) AS Max_Rating, MIN(Driver_Ratings) AS Min_Rating\n",
        "FROM bookings\n",
        "WHERE Vehicle_Type = 'prime sedan';\n",
        "\n",
        "SELECT * FROM Max_Min_Driver_Rating;\n",
        "\n",
        "# 7 Retrieve all rides where payment was made using UPI:\n",
        "\n",
        "CREATE VIEW Upi_Payment AS\n",
        "SELECT * FROM bookings\n",
        "WHERE Payment_Method = 'upi';\n",
        "\n",
        "SELECT * FROM Upi_Payment;\n",
        "\n",
        "# 8 Find the average customer rating per vehicle type:\n",
        "\n",
        "CREATE VIEW Avg_Cust_Rating_Vtype AS\n",
        "SELECT ROUND(AVG(Customer_Rating), 2) AS Avg_Cust_Rating, Vehicle_Type\n",
        "FROM bookings\n",
        "GROUP BY 2\n",
        "ORDER BY 1 DESC;\n",
        "\n",
        "SELECT * FROM Avg_Cust_Rating_Vtype;\n",
        "\n",
        "# 9 Calculate the total booking value of rides completed successfully:\n",
        "\n",
        "CREATE VIEW Successful_Ride_Value AS\n",
        "SELECT SUM(Booking_Value) AS Successful_Ride_Amount\n",
        "FROM bookings\n",
        "WHERE Booking_Status = 'SUCCESS';\n",
        "\n",
        "SELECT * FROM Successful_Ride_Value;\n",
        "\n",
        "# 10 List all incomplete rides along with the reason:\n",
        "\n",
        "CREATE VIEW ID_With_Incomplete_Reason AS\n",
        "SELECT Booking_ID, Incomplete_Rides_Reason\n",
        "FROM bookings\n",
        "WHERE Incomplete_Rides = 'Yes';\n",
        "\n",
        "SELECT * FROM ID_With_Incomplete_Reason;\n"
      ]
    }
  ]
}